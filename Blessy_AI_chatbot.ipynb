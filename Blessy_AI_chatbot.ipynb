{
  "nbformat": 4,
  "nbformat_minor": 0,
  "metadata": {
    "colab": {
      "name": "Blessy-AI chatbot.ipynb",
      "provenance": []
    },
    "kernelspec": {
      "name": "python3",
      "display_name": "Python 3"
    },
    "language_info": {
      "name": "python"
    }
  },
  "cells": [
    {
      "cell_type": "code",
      "metadata": {
        "colab": {
          "base_uri": "https://localhost:8080/"
        },
        "id": "fI6NOlaoBrcq",
        "outputId": "df351be2-3f54-4850-f12e-dcaa5908fe7d"
      },
      "source": [
        "!pip install chatterbot\n"
      ],
      "execution_count": 1,
      "outputs": [
        {
          "output_type": "stream",
          "text": [
            "Collecting chatterbot\n",
            "  Downloading ChatterBot-1.0.8-py2.py3-none-any.whl (63 kB)\n",
            "\u001b[?25l\r\u001b[K     |█████▏                          | 10 kB 29.0 MB/s eta 0:00:01\r\u001b[K     |██████████▎                     | 20 kB 8.3 MB/s eta 0:00:01\r\u001b[K     |███████████████▌                | 30 kB 7.0 MB/s eta 0:00:01\r\u001b[K     |████████████████████▋           | 40 kB 6.6 MB/s eta 0:00:01\r\u001b[K     |█████████████████████████▊      | 51 kB 4.2 MB/s eta 0:00:01\r\u001b[K     |███████████████████████████████ | 61 kB 4.4 MB/s eta 0:00:01\r\u001b[K     |████████████████████████████████| 63 kB 1.4 MB/s \n",
            "\u001b[?25hCollecting mathparse<0.2,>=0.1\n",
            "  Downloading mathparse-0.1.2-py3-none-any.whl (7.2 kB)\n",
            "Requirement already satisfied: python-dateutil<2.9,>=2.8 in /usr/local/lib/python3.7/dist-packages (from chatterbot) (2.8.2)\n",
            "Requirement already satisfied: pytz in /usr/local/lib/python3.7/dist-packages (from chatterbot) (2018.9)\n",
            "Collecting sqlalchemy<1.4,>=1.3\n",
            "  Downloading SQLAlchemy-1.3.24-cp37-cp37m-manylinux2010_x86_64.whl (1.3 MB)\n",
            "\u001b[K     |████████████████████████████████| 1.3 MB 9.1 MB/s \n",
            "\u001b[?25hRequirement already satisfied: six>=1.5 in /usr/local/lib/python3.7/dist-packages (from python-dateutil<2.9,>=2.8->chatterbot) (1.15.0)\n",
            "Installing collected packages: sqlalchemy, mathparse, chatterbot\n",
            "  Attempting uninstall: sqlalchemy\n",
            "    Found existing installation: SQLAlchemy 1.4.22\n",
            "    Uninstalling SQLAlchemy-1.4.22:\n",
            "      Successfully uninstalled SQLAlchemy-1.4.22\n",
            "Successfully installed chatterbot-1.0.8 mathparse-0.1.2 sqlalchemy-1.3.24\n"
          ],
          "name": "stdout"
        }
      ]
    },
    {
      "cell_type": "code",
      "metadata": {
        "colab": {
          "base_uri": "https://localhost:8080/"
        },
        "id": "P0KzhSZAB_Iz",
        "outputId": "b4cd63fb-cb95-4d57-ee72-9313afc17177"
      },
      "source": [
        "!pip install chatterbot_corpus"
      ],
      "execution_count": 2,
      "outputs": [
        {
          "output_type": "stream",
          "text": [
            "Collecting chatterbot_corpus\n",
            "  Downloading chatterbot_corpus-1.2.0-py2.py3-none-any.whl (117 kB)\n",
            "\u001b[?25l\r\u001b[K     |██▉                             | 10 kB 24.4 MB/s eta 0:00:01\r\u001b[K     |█████▋                          | 20 kB 10.8 MB/s eta 0:00:01\r\u001b[K     |████████▍                       | 30 kB 8.7 MB/s eta 0:00:01\r\u001b[K     |███████████▏                    | 40 kB 7.8 MB/s eta 0:00:01\r\u001b[K     |██████████████                  | 51 kB 4.3 MB/s eta 0:00:01\r\u001b[K     |████████████████▊               | 61 kB 4.5 MB/s eta 0:00:01\r\u001b[K     |███████████████████▋            | 71 kB 4.7 MB/s eta 0:00:01\r\u001b[K     |██████████████████████▍         | 81 kB 5.2 MB/s eta 0:00:01\r\u001b[K     |█████████████████████████▏      | 92 kB 3.9 MB/s eta 0:00:01\r\u001b[K     |████████████████████████████    | 102 kB 4.2 MB/s eta 0:00:01\r\u001b[K     |██████████████████████████████▊ | 112 kB 4.2 MB/s eta 0:00:01\r\u001b[K     |████████████████████████████████| 117 kB 4.2 MB/s \n",
            "\u001b[?25hRequirement already satisfied: PyYAML<4.0,>=3.12 in /usr/local/lib/python3.7/dist-packages (from chatterbot_corpus) (3.13)\n",
            "Installing collected packages: chatterbot-corpus\n",
            "Successfully installed chatterbot-corpus-1.2.0\n"
          ],
          "name": "stdout"
        }
      ]
    },
    {
      "cell_type": "code",
      "metadata": {
        "id": "zITL5qHbCrQv"
      },
      "source": [
        "from chatterbot import ChatBot"
      ],
      "execution_count": 3,
      "outputs": []
    },
    {
      "cell_type": "code",
      "metadata": {
        "id": "YgG9xSJ9C8Io"
      },
      "source": [
        "bot = ChatBot(\n",
        "    'Blessy',\n",
        "    logic_adapters=[\n",
        "          'chatterbot.logic.BestMatch',\n",
        "          'chatterbot.logic.TimeLogicAdapter'],\n",
        ")"
      ],
      "execution_count": 5,
      "outputs": []
    },
    {
      "cell_type": "code",
      "metadata": {
        "id": "zT-f_07lEUQr"
      },
      "source": [
        "from chatterbot.trainers import ChatterBotCorpusTrainer"
      ],
      "execution_count": 6,
      "outputs": []
    },
    {
      "cell_type": "code",
      "metadata": {
        "id": "_6IzXsPvEoN1"
      },
      "source": [
        "trainer = ChatterBotCorpusTrainer(bot)"
      ],
      "execution_count": 7,
      "outputs": []
    },
    {
      "cell_type": "code",
      "metadata": {
        "colab": {
          "base_uri": "https://localhost:8080/"
        },
        "id": "0D8zHHDoEzj8",
        "outputId": "d12c8613-3575-4d05-b5e1-e4f6b4f47787"
      },
      "source": [
        "trainer.train('chatterbot.corpus.english')"
      ],
      "execution_count": 8,
      "outputs": [
        {
          "output_type": "stream",
          "text": [
            "Training ai.yml: [####################] 100%\n",
            "Training botprofile.yml: [####################] 100%\n",
            "Training computers.yml: [####################] 100%\n",
            "Training conversations.yml: [####################] 100%\n",
            "Training emotion.yml: [####################] 100%\n",
            "Training food.yml: [####################] 100%\n",
            "Training gossip.yml: [####################] 100%\n",
            "Training greetings.yml: [####################] 100%\n",
            "Training health.yml: [####################] 100%\n",
            "Training history.yml: [####################] 100%\n",
            "Training humor.yml: [####################] 100%\n",
            "Training literature.yml: [####################] 100%\n",
            "Training money.yml: [####################] 100%\n",
            "Training movies.yml: [####################] 100%\n",
            "Training politics.yml: [####################] 100%\n",
            "Training psychology.yml: [####################] 100%\n",
            "Training science.yml: [####################] 100%\n",
            "Training sports.yml: [####################] 100%\n",
            "Training trivia.yml: [####################] 100%\n"
          ],
          "name": "stdout"
        }
      ]
    },
    {
      "cell_type": "code",
      "metadata": {
        "colab": {
          "base_uri": "https://localhost:8080/"
        },
        "id": "brNDmWeaFWnd",
        "outputId": "075593c2-4276-46e6-c3fc-88ae4823f0fe"
      },
      "source": [
        "name=input(\"enter your name:\")\n",
        "print(\"hi\" +name+\"how can i help with?\")\n",
        "while True:\n",
        "  request=input(name+':')\n",
        "  if request== 'Bye' or request =='bye':\n",
        "    print('Blessy: Bye')\n",
        "    break\n",
        "  else:\n",
        "    response=bot.get_response(request)\n",
        "    #get_response()is a method of chatbot instance\n",
        "    print('Blessy:',response)\n",
        "\n"
      ],
      "execution_count": 10,
      "outputs": [
        {
          "output_type": "stream",
          "text": [
            "enter your name:vamsi\n",
            "hivamsihow can i help with?\n",
            "vamsi:how are you\n",
            "Blessy: The current time is 09:24 AM\n",
            "vamsi:what is a computer\n",
            "Blessy: So you think i am a machine. what characteristics made you think so?\n",
            "vamsi:i hate you\n",
            "Blessy: The current time is 09:24 AM\n",
            "vamsi:how are you doing\n",
            "Blessy: The current time is 09:25 AM\n",
            "vamsi:bye\n",
            "Blessy: Bye\n"
          ],
          "name": "stdout"
        }
      ]
    }
  ]
}