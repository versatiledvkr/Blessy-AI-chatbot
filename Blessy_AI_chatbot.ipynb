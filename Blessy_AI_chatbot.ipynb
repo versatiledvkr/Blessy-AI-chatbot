{
  "nbformat": 4,
  "nbformat_minor": 0,
  "metadata": {
    "colab": {
      "name": "Blessy-AI chatbot.ipynb",
      "provenance": [],
      "collapsed_sections": [],
      "authorship_tag": "ABX9TyNdH7uFfcjzumM/Z4u5EaQE",
      "include_colab_link": true
    },
    "kernelspec": {
      "name": "python3",
      "display_name": "Python 3"
    },
    "language_info": {
      "name": "python"
    }
  },
  "cells": [
    {
      "cell_type": "markdown",
      "metadata": {
        "id": "view-in-github",
        "colab_type": "text"
      },
      "source": [
        "<a href=\"https://colab.research.google.com/github/versatiledvkr/Blessy-AI-chatbot/blob/main/Blessy_AI_chatbot.ipynb\" target=\"_parent\"><img src=\"https://colab.research.google.com/assets/colab-badge.svg\" alt=\"Open In Colab\"/></a>"
      ]
    },
    {
      "cell_type": "code",
      "metadata": {
        "colab": {
          "base_uri": "https://localhost:8080/"
        },
        "id": "fI6NOlaoBrcq",
        "outputId": "25628bcd-7c3c-494c-b9ab-2b76d0d822ee"
      },
      "source": [
        "!pip install chatterbot\n"
      ],
      "execution_count": null,
      "outputs": [
        {
          "output_type": "stream",
          "text": [
            "Collecting chatterbot\n",
            "  Downloading ChatterBot-1.0.8-py2.py3-none-any.whl (63 kB)\n",
            "\u001b[?25l\r\u001b[K     |█████▏                          | 10 kB 25.6 MB/s eta 0:00:01\r\u001b[K     |██████████▎                     | 20 kB 29.7 MB/s eta 0:00:01\r\u001b[K     |███████████████▌                | 30 kB 20.0 MB/s eta 0:00:01\r\u001b[K     |████████████████████▋           | 40 kB 16.2 MB/s eta 0:00:01\r\u001b[K     |█████████████████████████▊      | 51 kB 7.2 MB/s eta 0:00:01\r\u001b[K     |███████████████████████████████ | 61 kB 8.4 MB/s eta 0:00:01\r\u001b[K     |████████████████████████████████| 63 kB 2.2 MB/s \n",
            "\u001b[?25hRequirement already satisfied: pytz in /usr/local/lib/python3.7/dist-packages (from chatterbot) (2018.9)\n",
            "Requirement already satisfied: python-dateutil<2.9,>=2.8 in /usr/local/lib/python3.7/dist-packages (from chatterbot) (2.8.2)\n",
            "Collecting mathparse<0.2,>=0.1\n",
            "  Downloading mathparse-0.1.2-py3-none-any.whl (7.2 kB)\n",
            "Collecting sqlalchemy<1.4,>=1.3\n",
            "  Downloading SQLAlchemy-1.3.24-cp37-cp37m-manylinux2010_x86_64.whl (1.3 MB)\n",
            "\u001b[K     |████████████████████████████████| 1.3 MB 11.8 MB/s \n",
            "\u001b[?25hRequirement already satisfied: six>=1.5 in /usr/local/lib/python3.7/dist-packages (from python-dateutil<2.9,>=2.8->chatterbot) (1.15.0)\n",
            "Installing collected packages: sqlalchemy, mathparse, chatterbot\n",
            "  Attempting uninstall: sqlalchemy\n",
            "    Found existing installation: SQLAlchemy 1.4.22\n",
            "    Uninstalling SQLAlchemy-1.4.22:\n",
            "      Successfully uninstalled SQLAlchemy-1.4.22\n",
            "Successfully installed chatterbot-1.0.8 mathparse-0.1.2 sqlalchemy-1.3.24\n"
          ],
          "name": "stdout"
        }
      ]
    },
    {
      "cell_type": "code",
      "metadata": {
        "colab": {
          "base_uri": "https://localhost:8080/"
        },
        "id": "P0KzhSZAB_Iz",
        "outputId": "68d11b5b-e1f3-47cc-b161-d2724ac43776"
      },
      "source": [
        "!pip install chatterbot_corpus"
      ],
      "execution_count": null,
      "outputs": [
        {
          "output_type": "stream",
          "text": [
            "Collecting chatterbot_corpus\n",
            "  Downloading chatterbot_corpus-1.2.0-py2.py3-none-any.whl (117 kB)\n",
            "\u001b[?25l\r\u001b[K     |██▉                             | 10 kB 24.2 MB/s eta 0:00:01\r\u001b[K     |█████▋                          | 20 kB 30.1 MB/s eta 0:00:01\r\u001b[K     |████████▍                       | 30 kB 24.8 MB/s eta 0:00:01\r\u001b[K     |███████████▏                    | 40 kB 18.7 MB/s eta 0:00:01\r\u001b[K     |██████████████                  | 51 kB 7.4 MB/s eta 0:00:01\r\u001b[K     |████████████████▊               | 61 kB 8.1 MB/s eta 0:00:01\r\u001b[K     |███████████████████▋            | 71 kB 6.9 MB/s eta 0:00:01\r\u001b[K     |██████████████████████▍         | 81 kB 7.7 MB/s eta 0:00:01\r\u001b[K     |█████████████████████████▏      | 92 kB 7.8 MB/s eta 0:00:01\r\u001b[K     |████████████████████████████    | 102 kB 6.6 MB/s eta 0:00:01\r\u001b[K     |██████████████████████████████▊ | 112 kB 6.6 MB/s eta 0:00:01\r\u001b[K     |████████████████████████████████| 117 kB 6.6 MB/s \n",
            "\u001b[?25hRequirement already satisfied: PyYAML<4.0,>=3.12 in /usr/local/lib/python3.7/dist-packages (from chatterbot_corpus) (3.13)\n",
            "Installing collected packages: chatterbot-corpus\n",
            "Successfully installed chatterbot-corpus-1.2.0\n"
          ],
          "name": "stdout"
        }
      ]
    },
    {
      "cell_type": "code",
      "metadata": {
        "id": "zITL5qHbCrQv"
      },
      "source": [
        "from chatterbot import ChatBot"
      ],
      "execution_count": null,
      "outputs": []
    },
    {
      "cell_type": "code",
      "metadata": {
        "id": "YgG9xSJ9C8Io"
      },
      "source": [
        "bot = ChatBot(\n",
        "    'Blessy',\n",
        "    logic_adapters=[\n",
        "          'chatterbot.logic.BestMatch',\n",
        "          'chatterbot.logic.TimeLogicAdapter',\n",
        "          'chatterbot.logic.MathematicalEvaluation'],\n",
        ")"
      ],
      "execution_count": null,
      "outputs": []
    },
    {
      "cell_type": "code",
      "metadata": {
        "id": "zT-f_07lEUQr"
      },
      "source": [
        "from chatterbot.trainers import ChatterBotCorpusTrainer"
      ],
      "execution_count": null,
      "outputs": []
    },
    {
      "cell_type": "code",
      "metadata": {
        "id": "_6IzXsPvEoN1"
      },
      "source": [
        "trainer = ChatterBotCorpusTrainer(bot)"
      ],
      "execution_count": null,
      "outputs": []
    },
    {
      "cell_type": "code",
      "metadata": {
        "colab": {
          "base_uri": "https://localhost:8080/"
        },
        "id": "0D8zHHDoEzj8",
        "outputId": "fe9d94a8-32a4-4f28-f66f-fcad876f8f7d"
      },
      "source": [
        "trainer.train('chatterbot.corpus.english')"
      ],
      "execution_count": null,
      "outputs": [
        {
          "output_type": "stream",
          "text": [
            "Training ai.yml: [####################] 100%\n",
            "Training botprofile.yml: [####################] 100%\n",
            "Training computers.yml: [####################] 100%\n",
            "Training conversations.yml: [####################] 100%\n",
            "Training emotion.yml: [####################] 100%\n",
            "Training food.yml: [####################] 100%\n",
            "Training gossip.yml: [####################] 100%\n",
            "Training greetings.yml: [####################] 100%\n",
            "Training health.yml: [####################] 100%\n",
            "Training history.yml: [####################] 100%\n",
            "Training humor.yml: [####################] 100%\n",
            "Training literature.yml: [####################] 100%\n",
            "Training money.yml: [####################] 100%\n",
            "Training movies.yml: [####################] 100%\n",
            "Training politics.yml: [####################] 100%\n",
            "Training psychology.yml: [####################] 100%\n",
            "Training science.yml: [####################] 100%\n",
            "Training sports.yml: [####################] 100%\n",
            "Training trivia.yml: [####################] 100%\n"
          ],
          "name": "stdout"
        }
      ]
    },
    {
      "cell_type": "code",
      "metadata": {
        "colab": {
          "base_uri": "https://localhost:8080/"
        },
        "id": "brNDmWeaFWnd",
        "outputId": "53e44a7f-5509-4a77-8141-d2383a1678f7"
      },
      "source": [
        "name=input(\"enter your name:\")\n",
        "print(\"hi \" +name+\" how can i help with?\")\n",
        "while True:\n",
        "  request=input(name+':')\n",
        "  if request== 'Bye' or request =='bye':\n",
        "    print('Blessy: Bye')\n",
        "    break\n",
        "  else:\n",
        "    response=bot.get_response(request)\n",
        "    #get_response()is a method of chatbot instance\n",
        "    print('Blessy:',response)"
      ],
      "execution_count": null,
      "outputs": [
        {
          "output_type": "stream",
          "text": [
            "enter your name:vamsi\n",
            "hi vamsi how can i help with?\n"
          ],
          "name": "stdout"
        }
      ]
    }
  ]
}